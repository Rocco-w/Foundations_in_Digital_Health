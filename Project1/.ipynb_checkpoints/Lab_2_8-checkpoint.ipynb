{
 "cells": [
  {
   "cell_type": "code",
   "execution_count": 1,
   "id": "b28c2991",
   "metadata": {},
   "outputs": [],
   "source": [
    "import mysql.connector\n",
    "import pprint\n",
    "\n",
    "cnx = mysql.connector.connect(host='172.16.34.1', port='3307',\n",
    "                            user='umls', password='umls', database='umls2022')\n",
    "cur = cnx.cursor()"
   ]
  },
  {
   "cell_type": "code",
   "execution_count": 3,
   "id": "0c8d14d3",
   "metadata": {},
   "outputs": [
    {
     "data": {
      "text/plain": [
       "('C5203671',)"
      ]
     },
     "execution_count": 3,
     "metadata": {},
     "output_type": "execute_result"
    }
   ],
   "source": [
    "string_example = \"%COVID-19%\"\n",
    "cur.execute(\"select CUI from MRCONSO where STR like '%s'\" % string_example)  #select CUI\n",
    "#cur.execute(\"select * from MRCONSO where STR like '%COVID-19%'\")\n",
    "query_result = cur.fetchall()\n",
    "#query_result = cur.fetchone()\n",
    "col_names = [ col[0] for col in cur.description]\n",
    "#pprint.pprint(col_names)\n",
    "#pprint.pprint(query_result)\n",
    "#print(list(list(zip(*query_result))[0])[0])\n",
    "list(query_result)[0]"
   ]
  },
  {
   "cell_type": "code",
   "execution_count": 72,
   "id": "2f352660",
   "metadata": {},
   "outputs": [
    {
     "name": "stdout",
     "output_type": "stream",
     "text": [
      "1272\n"
     ]
    }
   ],
   "source": [
    "given_CUI = \"C0004238\"\n",
    "#CUI1 -> PAR CUI2: CUI1 is children, CUI2 is parent\n",
    "\n",
    "#     SELECT b.*\n",
    "#     FROM MRREL a JOIN MRREL b ON a.CUI2 = b.CUI1\n",
    "#     WHERE a.CUI1='C0004238' AND a.REL ='PAR' AND b.REL ='CHD'\n",
    "# UNION\n",
    "#     SELECT *\n",
    "#     FROM MRREL\n",
    "#     WHERE CUI1='C0004238' AND REL ='PAR';\n",
    "\n",
    "cur.execute(\"SELECT b.CUI2 FROM MRREL a JOIN MRREL b ON a.CUI2 = b.CUI1 WHERE a.CUI1='C0004238' AND a.REL ='PAR' AND b.REL ='CHD' UNION SELECT CUI2 FROM MRREL WHERE CUI1='C0004238' AND REL ='PAR'\")\n",
    "query_result = cur.fetchall()\n",
    "col_names = [ col[0] for col in cur.description]\n",
    "print(len(list(list(zip(*query_result))[0])))"
   ]
  },
  {
   "cell_type": "code",
   "execution_count": null,
   "id": "1a7ee206",
   "metadata": {},
   "outputs": [],
   "source": [
    "#cur.execute(\n",
    "\n",
    "# with recursive cui_cycle as\n",
    "#     (\n",
    "#         select CUI1, REL, CUI2, 1 as level\n",
    "#         from MRREL where CUI1='C0009324'\n",
    "#         union\n",
    "#         select T.CUI1, T.REL, T.CUI2, C.level+1 as level\n",
    "#         from cui_cycle C\n",
    "#         join MRREL T on C.CUI1 = T.CUI2 #如何同时判断是PAR还是CHD，而不是只判断一个\n",
    "#     )\n",
    "# select * from cui_cycle;"
   ]
  },
  {
   "cell_type": "code",
   "execution_count": 2,
   "id": "ebcd8c06",
   "metadata": {},
   "outputs": [
    {
     "name": "stdout",
     "output_type": "stream",
     "text": [
      "['C0360105', 'C0074393', 'C0162758', 'C0074393', 'C0162758', 'C2267101', 'C0360105', 'C1320237', 'C1320237', 'C0360105', 'C4324235', 'C4324235', 'C1289934', 'C0003289', 'C1289934', 'C0074393', 'C0003289', 'C0074393', 'C0074393', 'C0074393', 'C0003289']\n",
      "C0360105\n"
     ]
    }
   ],
   "source": [
    "cur.execute(\"select CUI2 from MRREL where CUI1='C0600526' and REL='PAR'\")  \n",
    "query_PAR_result = cur.fetchall()\n",
    "\n",
    "ls_PAR_result = list(list(zip(*query_PAR_result))[0])\n",
    "print(ls_PAR_result)\n",
    "print(ls_PAR_result[0])"
   ]
  },
  {
   "cell_type": "code",
   "execution_count": null,
   "id": "35c34720",
   "metadata": {},
   "outputs": [],
   "source": [
    "#given_cui = \"C0600526\"\n",
    "initial_cui = \"C1140168\"\n",
    "def find_cycle(given_cui):\n",
    "    result=[]\n",
    "    counter = 0\n",
    "    try:\n",
    "        cur.execute(\"select CUI2 from MRREL where CUI1='%s' and REL='PAR'\" % given_cui)  \n",
    "        query_PAR_result = cur.fetchall()\n",
    "        ls_PAR_result = list(list(zip(*query_PAR_result))[0])\n",
    "        result.append(given_cui)\n",
    "        #if counter>=3 and counter<41 and result[-1]==result[0]:\n",
    "        #    print(*result)\n",
    "            #for e in range(len(result)):\n",
    "            #    print resultt[e]\n",
    "        #else:\n",
    "        for par_cui in ls_PAR_result:\n",
    "            if counter>=3 and counter<41 and par_cui==result[0]:\n",
    "                print(*result)\n",
    "            else:\n",
    "                find_cycle(par_cui)\n",
    "                counter+=1\n",
    "    except:\n",
    "        cur.execute(\"select CUI2 from MRREL where CUI1='%s' and REL='CHD'\" % given_cui)  \n",
    "        query_CHD_result = cur.fetchall()\n",
    "        ls_CHD_result = list(list(zip(*query_CHD_result))[0])\n",
    "        result.append(given_cui)\n",
    "        #if counter>=3 and counter<41 and result[-1]==result[0]:\n",
    "        #    print(*result)\n",
    "            #for e in range(len(result)):\n",
    "            #    print result[e]\n",
    "        #else:\n",
    "        for chd_cui in ls_CHD_result:\n",
    "            if counter>=3 and counter<41 and chd_cui==result[0]:\n",
    "                print(*result)\n",
    "            else:\n",
    "                find_cycle(chd_cui)\n",
    "                counter+=1\n",
    "        \n",
    "find_cycle(initial_cui)"
   ]
  },
  {
   "cell_type": "code",
   "execution_count": 1,
   "id": "b9684045",
   "metadata": {},
   "outputs": [
    {
     "ename": "NameError",
     "evalue": "name 'cur' is not defined",
     "output_type": "error",
     "traceback": [
      "\u001b[1;31m---------------------------------------------------------------------------\u001b[0m",
      "\u001b[1;31mNameError\u001b[0m                                 Traceback (most recent call last)",
      "Input \u001b[1;32mIn [1]\u001b[0m, in \u001b[0;36m<cell line: 7>\u001b[1;34m()\u001b[0m\n\u001b[0;32m      5\u001b[0m     ls_result \u001b[38;5;241m=\u001b[39m \u001b[38;5;28mlist\u001b[39m(\u001b[38;5;28mlist\u001b[39m(\u001b[38;5;28mzip\u001b[39m(\u001b[38;5;241m*\u001b[39mquery_result))[\u001b[38;5;241m0\u001b[39m])\n\u001b[0;32m      6\u001b[0m     \u001b[38;5;28;01mreturn\u001b[39;00m ls_result[\u001b[38;5;241m0\u001b[39m]\n\u001b[1;32m----> 7\u001b[0m \u001b[43mexe_sql\u001b[49m\u001b[43m(\u001b[49m\u001b[43minitial_cui\u001b[49m\u001b[43m)\u001b[49m\n",
      "Input \u001b[1;32mIn [1]\u001b[0m, in \u001b[0;36mexe_sql\u001b[1;34m(given_cui)\u001b[0m\n\u001b[0;32m      2\u001b[0m \u001b[38;5;28;01mdef\u001b[39;00m \u001b[38;5;21mexe_sql\u001b[39m(given_cui):\n\u001b[1;32m----> 3\u001b[0m     \u001b[43mcur\u001b[49m\u001b[38;5;241m.\u001b[39mexecute(\u001b[38;5;124m\"\u001b[39m\u001b[38;5;124mselect CUI2 from MRREL where CUI1=\u001b[39m\u001b[38;5;124m'\u001b[39m\u001b[38;5;132;01m%s\u001b[39;00m\u001b[38;5;124m'\u001b[39m\u001b[38;5;124m and REL=\u001b[39m\u001b[38;5;124m'\u001b[39m\u001b[38;5;124mPAR\u001b[39m\u001b[38;5;124m'\u001b[39m\u001b[38;5;124m \u001b[39m\u001b[38;5;124m\"\u001b[39m \u001b[38;5;241m%\u001b[39m given_cui)  \n\u001b[0;32m      4\u001b[0m     query_result \u001b[38;5;241m=\u001b[39m cur\u001b[38;5;241m.\u001b[39mfetchall()\n\u001b[0;32m      5\u001b[0m     ls_result \u001b[38;5;241m=\u001b[39m \u001b[38;5;28mlist\u001b[39m(\u001b[38;5;28mlist\u001b[39m(\u001b[38;5;28mzip\u001b[39m(\u001b[38;5;241m*\u001b[39mquery_result))[\u001b[38;5;241m0\u001b[39m])\n",
      "\u001b[1;31mNameError\u001b[0m: name 'cur' is not defined"
     ]
    }
   ],
   "source": [
    "initial_cui = \"C1140168\"\n",
    "def exe_sql(given_cui):\n",
    "    cur.execute(\"select CUI2 from MRREL where CUI1='%s' and REL='PAR' \" % given_cui)  \n",
    "    query_result = cur.fetchall()\n",
    "    ls_result = list(list(zip(*query_result))[0])\n",
    "    return ls_result[0]\n",
    "exe_sql(initial_cui)"
   ]
  },
  {
   "cell_type": "code",
   "execution_count": 5,
   "id": "40555d35",
   "metadata": {},
   "outputs": [
    {
     "name": "stdout",
     "output_type": "stream",
     "text": [
      "34998454\n"
     ]
    }
   ],
   "source": [
    "cur.execute(\"select CUI1 from MRREL\")\n",
    "initial_query_result = cur.fetchall()\n",
    "initial_ls_result = list(list(zip(*initial_query_result))[0])\n",
    "print(len(initial_ls_result))\n",
    "\n",
    "for i in initial_ls_result:\n",
    "    exe_sql(i)"
   ]
  },
  {
   "cell_type": "code",
   "execution_count": 14,
   "id": "be97ca7b",
   "metadata": {},
   "outputs": [],
   "source": [
    "import mysql.connector\n",
    "import pprint\n",
    "\n",
    "cnx = mysql.connector.connect(host='172.16.34.1', port='3307',\n",
    "                            user='umls', password='umls', database='umls2022')\n",
    "cur = cnx.cursor()"
   ]
  },
  {
   "cell_type": "code",
   "execution_count": 5,
   "id": "7dbe226e",
   "metadata": {},
   "outputs": [
    {
     "name": "stdout",
     "output_type": "stream",
     "text": [
      "1\n",
      "1\n",
      "1\n",
      "1\n"
     ]
    }
   ],
   "source": [
    "import mysql.connector\n",
    "import pprint\n",
    "\n",
    "cnx = mysql.connector.connect(host='172.16.34.1', port='3307',\n",
    "                            user='umls', password='umls', database='umls2022')\n",
    "cur = cnx.cursor()\n",
    "\n",
    "\n",
    "initial_ls_result = [\"C1140168\",\"C1140168\",\"C1140168\",\"C1140168\"]\n",
    "file = open(\"1.txt\", \"w\")\n",
    "\n",
    "global counter \n",
    "result = []\n",
    "\n",
    "\n",
    "def find_cycle(given_cui): \n",
    "    counter = 0\n",
    "    cur.execute(\"select CUI2 from MRREL where CUI1='%s' and REL='PAR'\" % given_cui)  \n",
    "    query_result = cur.fetchall()\n",
    "    ls_result = [*set(list(list(zip(*query_result))[0]))]\n",
    "    result.append(given_cui)\n",
    "    if counter>3:\n",
    "        return\n",
    "    for cui in ls_result:\n",
    "        if cui in result:\n",
    "            if len(result)>=4 and len(result)<40:\n",
    "                for i in range(0, len(result)):    \n",
    "                    file.write(str(result[i]) + ' ')\n",
    "                file.write(str(cui))   \n",
    "                file.write(\"\\n\")\n",
    "                counter+=1\n",
    "                print(counter)\n",
    "                return\n",
    "        else:\n",
    "            find_cycle(cui)\n",
    "    result.clear()\n",
    "    \n",
    "    #print(list(zip(*query_result))[0])\n",
    "    \n",
    "for item in initial_ls_result:\n",
    "    find_cycle(item)\n",
    "\n",
    "\n",
    "file.close()\n",
    "cnx.close()"
   ]
  },
  {
   "cell_type": "code",
   "execution_count": 2,
   "id": "f9a332aa",
   "metadata": {},
   "outputs": [
    {
     "ename": "SyntaxError",
     "evalue": "invalid syntax (1692513701.py, line 3)",
     "output_type": "error",
     "traceback": [
      "\u001b[1;36m  Input \u001b[1;32mIn [2]\u001b[1;36m\u001b[0m\n\u001b[1;33m    for i in range(1,len(a),2)\u001b[0m\n\u001b[1;37m                              ^\u001b[0m\n\u001b[1;31mSyntaxError\u001b[0m\u001b[1;31m:\u001b[0m invalid syntax\n"
     ]
    }
   ],
   "source": [
    "ls_query_result=[]\n",
    "a = (query_result[0][2]).split('\"')\n",
    "for i in range(1,len(a),2)\n",
    "    ls_query_result.append(a[i])\n",
    "    \n",
    "if len(ls_query_result)>=3 and len(ls_query_result)<41:\n",
    "    file.write(\",\".join(str(cui) for cui in ls_query_result))\n",
    "    file.write(str(ls_query_result[1]))   \n",
    "    file.write(\"\\n\")\n",
    "    counter+=1\n",
    "    \n",
    "file.close()\n",
    "cnx.close()"
   ]
  },
  {
   "cell_type": "code",
   "execution_count": null,
   "id": "5daf177f",
   "metadata": {},
   "outputs": [],
   "source": [
    "import mysql.connector\n",
    "import pprint\n",
    "\n",
    "cnx = mysql.connector.connect(host='172.16.34.1', port='3307',\n",
    "                            user='umls', password='umls', database='umls2022')\n",
    "cur = cnx.cursor()\n",
    "\n",
    "cur.execute(\"select CUI1 from MRREL where REL='PAR'\")\n",
    "initial_query_result = cur.fetchall()\n",
    "initial_ls_result = list(list(zip(*initial_query_result))[0])\n",
    "#print([*set(initial_ls_result[:10])])\n",
    "#print(initial_ls_result[:10])\n",
    "\n",
    "global counter \n",
    "counter=0\n",
    "result=[]\n",
    "file=open(\"1.txt\", \"w\")\n",
    "#for item in initial_ls_result:\n",
    "cur.execute(\"\"\"with recursive RESULTS(CUI1, CUI2, REL, Level, Circle, IfCircle)as(\n",
    "select C.CUI1, C.CUI2, C.REL, 0 AS Levels, JSON_ARRAY(C.CUI1), 0 as IfCircle\n",
    "from MRREL as C\n",
    "where C.REL='PAR' and C.CUI1 ='C1140168'\n",
    "union all\n",
    "select E.CUI1, E.CUI2, E.REL, T.Level + 1, JSON_ARRAY_APPEND(T.Circle, '$', E.CUI1),\n",
    "        IF((E.CUI2 member of (T.Circle)), 1, 0)\n",
    "from RESULTS as T join MRREL as E\n",
    "on T.CUI2 = E.CUI1  and E.REL = 'PAR'\n",
    "where T.IfCircle = 0 and E.CUI1 != E.CUI2)\n",
    "select CUI1, CUI2, Circle, Level, JSON_SEARCH(Circle, 'all', CUI2) from RESULTS where IfCircle = 1;\"\"\")#% i)  \n",
    "query_result = cur.fetchall()\n",
    "if query_result!= None:\n",
    "    ls_query_result=[]\n",
    "    a = (query_result[0][2]).split('\"')\n",
    "    for i in range(1,len(a),2):\n",
    "        ls_query_result.append(a[i])\n",
    "    \n",
    "    if len(ls_query_result)>=3 and len(ls_query_result)<41:\n",
    "        file.write(\",\".join(str(cui) for cui in ls_query_result)+\",\")\n",
    "        file.write(str(ls_query_result[0]))   \n",
    "        file.write(\"\\n\")\n",
    "        counter+=1\n",
    "    \n",
    "file.close()\n",
    "cnx.close()"
   ]
  },
  {
   "cell_type": "code",
   "execution_count": 10,
   "id": "164954e9",
   "metadata": {},
   "outputs": [
    {
     "data": {
      "text/plain": [
       "[('C1254372',\n",
       "  'C1140168',\n",
       "  '[\"C1140168\", \"C1512759\", \"C1512762\", \"C1254372\"]',\n",
       "  3,\n",
       "  '\"$[0]\"')]"
      ]
     },
     "execution_count": 10,
     "metadata": {},
     "output_type": "execute_result"
    }
   ],
   "source": [
    "query_result\n"
   ]
  },
  {
   "cell_type": "code",
   "execution_count": 95,
   "id": "15e93bed",
   "metadata": {},
   "outputs": [
    {
     "data": {
      "text/plain": [
       "['[', 'C1140168', ', ', 'C1512759', ', ', 'C1512762', ', ', 'C1254372', ']']"
      ]
     },
     "execution_count": 95,
     "metadata": {},
     "output_type": "execute_result"
    }
   ],
   "source": [
    "temp = (query_result[0][2]).split('\"')\n",
    "temp"
   ]
  },
  {
   "cell_type": "code",
   "execution_count": 8,
   "id": "b2f4ef0d",
   "metadata": {},
   "outputs": [
    {
     "data": {
      "text/plain": [
       "['C1140168', 'C1512759', 'C1512762', 'C1254372']"
      ]
     },
     "execution_count": 8,
     "metadata": {},
     "output_type": "execute_result"
    }
   ],
   "source": [
    "path = [] #the path contains the circle \n",
    "temp = (query_result[0][2]).split('\"')\n",
    "for i in range(1, len(temp), 2):\n",
    "    path.append(temp[i])\n",
    "path"
   ]
  },
  {
   "cell_type": "code",
   "execution_count": null,
   "id": "982a31ce",
   "metadata": {},
   "outputs": [],
   "source": [
    "if len(ls_query_result)>=3 and len(ls_query_result)<41:\n",
    "    file.write(\",\".join(str(cui) for cui in ls_query_result))\n",
    "    file.write(str(ls_query_result[1]))   \n",
    "    file.write(\"\\n\")\n",
    "    counter+=1\n",
    "    \n",
    "file.close()\n",
    "cnx.close()"
   ]
  },
  {
   "cell_type": "code",
   "execution_count": 15,
   "id": "719f3132",
   "metadata": {},
   "outputs": [],
   "source": [
    "def fun_call(number, ls):\n",
    "    global count\n",
    "    if count >= 3:\n",
    "        return\n",
    "    query = f\"SELECT CUI2 from MRREL where CUI1 = '{number}' and REL = 'PAR';\"\n",
    "    cur.execute(query)\n",
    "    one = cur.fetchall()\n",
    "    lx = []\n",
    "    lx = ls\n",
    "    if len(one) < 1:\n",
    "        return\n",
    "    ls.append(number)\n",
    "    for a in one:\n",
    "        if a[0] in ls: # if this number exist in the loop\n",
    "            index = ls.index(a[0])  # find the index from the list\n",
    "            lenx = len(ls) - index  # check how long the index to the last one\n",
    "            if lenx <= 3:       # if this smaller than 3, should not do anything\n",
    "                return\n",
    "\n",
    "            for i in range(index, index + lenx):    #print out the list for ls [ ... i ....x] from i to x\n",
    "                file.write(str(ls[i]) + ' ')\n",
    "            file.write(str(a[0]))   # add the last one back.\n",
    "            file.write(\"\\n\")\n",
    "            count += 1\n",
    "            return\n",
    "        else:   #if not in the list, then add this number and go next\n",
    "\n",
    "            fun_call(a[0], ls)\n",
    "\n",
    "    return\n",
    "\n",
    "if __name__ == \"__main__\":\n",
    "    y = \"C0600526\"\n",
    "    query = f\"SELECT * from MRREL where CUI1 ='{y}' and REL = 'PAR' \"\n",
    "    cur.execute(query)\n",
    "    one = cur.fetchall()\n",
    "    rd = 1\n",
    "    #\n",
    "    for a in one:\n",
    "        ls = []\n",
    "        fun_call(a[4], ls)\n",
    "\n",
    "    file.close()\n",
    "    "
   ]
  },
  {
   "cell_type": "code",
   "execution_count": 26,
   "id": "2ebea32c",
   "metadata": {},
   "outputs": [],
   "source": [
    "import mysql.connector\n",
    "import pprint\n",
    "\n",
    "cnx = mysql.connector.connect(user='umls', password='umls', host='172.16.34.1', port='3307', database='umls2022')\n",
    "cur = cnx.cursor()\n",
    "\n",
    "file = open(\"outputlist2.txt\", \"a+\")\n",
    "count = 0\n",
    "\n",
    "\n",
    "def fun_call(number, ls):\n",
    "    global count\n",
    "    if count >= 3:\n",
    "        return\n",
    "\n",
    "    query = f\"SELECT * from MRREL where CUI1 = '{number}' and REL = 'PAR'\"\n",
    "    cur.execute(query)\n",
    "    one = cur.fetchall()\n",
    "    ls.append(number)\n",
    "    for a in one:\n",
    "        if len(a[4]) < 5:\n",
    "            return\n",
    "        if a[4] in ls:\n",
    "            index = ls.index(a[4])\n",
    "            if (len(ls) - index) <= 5:\n",
    "                return\n",
    "            for i in range(index, len(ls)):\n",
    "                file.write(str(ls[i]) + ' ')\n",
    "            file.write(str(a[4]))\n",
    "            file.write(\"\\n\")\n",
    "            count += 1\n",
    "            return\n",
    "        if len(a[4]) > 5:\n",
    "            fun_call(a[4], ls)\n",
    "    return\n",
    "\n",
    "\n",
    "#y = \"C0600526\"\n",
    "#query = f\"SELECT * from MRREL where CUI1 ='{y}' and REL = 'PAR' \"\n",
    "#cur.execute(query)\n",
    "#one = cur.fetchall()\n",
    "#rd = 1\n",
    "#\n",
    "#for a in one:\n",
    "#    ls = []\n",
    "#    fun_call(a[4], ls)\n",
    "cur.execute(\"select CUI1 from MRREL\")\n",
    "initial_query_result = cur.fetchall()\n",
    "initial_ls_result = list(list(zip(*initial_query_result))[0])\n",
    "#print(len(initial_ls_result))\n",
    "\n",
    "for i in initial_ls_result:\n",
    "    ls = []\n",
    "    fun_call(i, ls)\n",
    "file.close()"
   ]
  },
  {
   "cell_type": "code",
   "execution_count": null,
   "id": "e7cc7aac",
   "metadata": {},
   "outputs": [],
   "source": []
  },
  {
   "cell_type": "code",
   "execution_count": 10,
   "id": "766e2719",
   "metadata": {},
   "outputs": [],
   "source": [
    "import mysql.connector\n",
    "import pprint\n",
    "\n",
    "cnx = mysql.connector.connect(user='umls', password='umls', host='172.16.34.1', port='3307', database='umls2022')\n",
    "cur = cnx.cursor()\n",
    "\n",
    "global count\n",
    "count = 0\n",
    "def fun_call(number, ls):\n",
    "    global count\n",
    "    if count >3:\n",
    "        return\n",
    "    # if len(ls) >= 40:\n",
    "    #     return\n",
    "    if len(ls) == 0:\n",
    "        query = f\"\"\"SELECT CUI2 from MRREL where CUI1 = '{number}' and REL='PAR' and CUI1 != CUI2;\"\"\"\n",
    "        cur.execute(query)\n",
    "        one = cur.fetchall()\n",
    "\n",
    "        for a in one:ni\n",
    "            k = ls.copy()\n",
    "            k.append(number)\n",
    "            fun_call(a[0],k)\n",
    "        return\n",
    "    else:\n",
    "        query = f\"\"\"SELECT CUI2,REL from MRREL where CUI1 = '{ls[-1]}' and CUI2 = '{number}'and CUI1 != CUI2 and REL='PAR'\"\"\"\n",
    "        cur.execute(query)\n",
    "        one = cur.fetchall()\n",
    "        if len(one)<1:\n",
    "            return\n",
    "\n",
    "            \n",
    "        query = f\"\"\"SELECT CUI2 from MRREL where CUI1 = '{number}' and CUI1 != CUI2 and REL='PAR'\"\"\"\n",
    "        cur.execute(query)\n",
    "        one = cur.fetchall()\n",
    "        if len(one) < 1:\n",
    "            return\n",
    "        for a in one:\n",
    "            if (a[0] in ls):\n",
    "                index = ls.index(a[0])\n",
    "                size = len(ls) - index\n",
    "                if size <= 3 or size >=40:\n",
    "                    return\n",
    "                file = open(f\"{a[0]}.txt\",\"w\")\n",
    "                count += 1\n",
    "                for i in range(index,len(ls)):\n",
    "                    file.write(ls[i]+\"\\n\")\n",
    "\n",
    "                file.write(number + \"\\n\")\n",
    "                file.write(a[0])\n",
    "                file.close()\n",
    "                return\n",
    "            else:\n",
    "这个copy总要，明白了预防重复\n",
    "                k = ls.copy()\n",
    "\n",
    "                k.append(number)\n",
    "                fun_call(a[0], k)\n",
    "    return\n",
    "\n",
    "if __name__ == \"__main__\":\n",
    "\n",
    "    query = \"\"\"select a.CUI1, count(a.CUI1) \n",
    "    from (select * from MRREL where REL = 'PAR' limit 1000000) as a \n",
    "    where a.REl = 'PAR' \n",
    "    Group by a.CUI1 order by count(a.CUI1) desc;\"\"\"\n",
    "    #找出PAR最多的几个\n",
    "\n",
    "    cur.execute(query)\n",
    "    res = cur.fetchall()\n",
    "    ls = []\n",
    "    for i in res[:10]: #我选了10个， 可以更多。\n",
    "        fun_call(i[0],ls)\n",
    "    "
   ]
  },
  {
   "cell_type": "code",
   "execution_count": 13,
   "id": "0875c9c5",
   "metadata": {},
   "outputs": [
    {
     "data": {
      "text/plain": [
       "98"
      ]
     },
     "execution_count": 13,
     "metadata": {},
     "output_type": "execute_result"
    }
   ],
   "source": [
    "import mysql.connector\n",
    "import pprint\n",
    "\n",
    "cnx = mysql.connector.connect(user='umls', password='umls', host='172.16.34.1', port='3307', database='umls2022')\n",
    "cur = cnx.cursor()\n",
    "query = \"\"\"SELECT CUI2 from MRREL where CUI1 = 'C0977900' and REL='PAR' and CUI1 != CUI2;\"\"\"\n",
    "cur.execute(query)\n",
    "one = cur.fetchall()\n",
    "len(one) 我不明白为什么len都一样 为什么我的就有问题"
   ]
  },
  {
   "cell_type": "code",
   "execution_count": null,
   "id": "232b24f3",
   "metadata": {},
   "outputs": [],
   "source": [
    "import mysql.connector\n",
    "import pprint\n",
    "\n",
    "cnx = mysql.connector.connect(host='172.16.34.1', port='3307',\n",
    "                              user='umls', password='umls', database='umls2022')\n",
    "cur = cnx.cursor()\n",
    "\n",
    "global counter\n",
    "counter = 0\n",
    "result = []\n",
    "\n",
    "\n",
    "def find_cycle(given_cui):\n",
    "\n",
    "    global counter\n",
    "    if counter > 3 or len(given_cui) > 40:\n",
    "        return\n",
    "\n",
    "    if len(given_cui) <= 1:\n",
    "        cur.execute(\"select CUI2 from MRREL where CUI1='%s' and REL='PAR' and CUI1!=CUI2\" % given_cui[-1])\n",
    "        query_result = cur.fetchall()\n",
    "        # ls_result = list(list(zip(*query_result))[0])\n",
    "        for cui in query_result:\n",
    "            x = given_cui.copy()\n",
    "            x.append(cui[0])\n",
    "            find_cycle(x)\n",
    "        return\n",
    "\n",
    "    else:\n",
    "        cur.execute(\"select CUI1, CUI2, REL from MRREL where CUI1='%s' and CUI2='%s' and CUI1!=CUI2 and REL='PAR' group by CUI1, CUI2, REL\"%(given_cui[-2],given_cui[-1]))\n",
    "        query_result = cur.fetchall()\n",
    "        if len(query_result) < 1:\n",
    "            return\n",
    "\n",
    "        cur.execute(\"select CUI2 from MRREL where CUI1='%s' and REL='PAR' and CUI1!=CUI2 group by CUI2\" % given_cui[-1])\n",
    "        query_result = cur.fetchall()\n",
    "        if len(query_result) < 1:\n",
    "            return\n",
    "        \n",
    "        for cui in query_result:\n",
    "            if (cui[0] in given_cui):\n",
    "                if (len(given_cui)-given_cui.index(cui[0]))> 4 and len(given_cui) < 40:\n",
    "                    counter += 1\n",
    "                    file = open(f\"{cui[0]}.txt\", \"w\")\n",
    "                    for i in range(given_cui.index(cui[0]), len(given_cui)):\n",
    "                        file.write(str(given_cui[i]) + ',')\n",
    "                    file.write(str(cui[0]))\n",
    "                    file.write(\"\\n\")\n",
    "                    file.close()\n",
    "\n",
    "                    return\n",
    "            else:\n",
    "                x = given_cui.copy()\n",
    "                x.append(cui[0])\n",
    "\n",
    "                find_cycle(x)\n",
    "\n",
    "\n",
    "\n",
    "if __name__ == \"__main__\":\n",
    "    cur.execute(\"\"\"select CUI1, count(CUI1)\n",
    "                from (select * from MRREL where REL = 'PAR' limit 1000000) as H\n",
    "                where REL='PAR'\n",
    "                group by CUI1\n",
    "                order by count(CUI1) desc;\"\"\")\n",
    "    test_query_result = cur.fetchall()\n",
    "    for i in test_query_result[:10]:\n",
    "        res = []\n",
    "        res.append(i[0])\n",
    "        find_cycle(res)"
   ]
  }
 ],
 "metadata": {
  "kernelspec": {
   "display_name": "Python 3 (ipykernel)",
   "language": "python",
   "name": "python3"
  },
  "language_info": {
   "codemirror_mode": {
    "name": "ipython",
    "version": 3
   },
   "file_extension": ".py",
   "mimetype": "text/x-python",
   "name": "python",
   "nbconvert_exporter": "python",
   "pygments_lexer": "ipython3",
   "version": "3.9.12"
  }
 },
 "nbformat": 4,
 "nbformat_minor": 5
}
